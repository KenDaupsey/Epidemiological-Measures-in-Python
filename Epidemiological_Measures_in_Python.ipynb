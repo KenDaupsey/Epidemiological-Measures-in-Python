{
  "nbformat": 4,
  "nbformat_minor": 0,
  "metadata": {
    "colab": {
      "provenance": [],
      "authorship_tag": "ABX9TyMpZhcT9dOt+UtsgYNAkp7V",
      "include_colab_link": true
    },
    "kernelspec": {
      "name": "python3",
      "display_name": "Python 3"
    },
    "language_info": {
      "name": "python"
    }
  },
  "cells": [
    {
      "cell_type": "markdown",
      "metadata": {
        "id": "view-in-github",
        "colab_type": "text"
      },
      "source": [
        "<a href=\"https://colab.research.google.com/github/KenDaupsey/Epidemiological-Measures-in-Python/blob/main/Epidemiological_Measures_in_Python.ipynb\" target=\"_parent\"><img src=\"https://colab.research.google.com/assets/colab-badge.svg\" alt=\"Open In Colab\"/></a>"
      ]
    },
    {
      "cell_type": "markdown",
      "source": [
        "*** EPIDEMIOLOGICAL MEASURES in PYTHON ***"
      ],
      "metadata": {
        "id": "FWAOjbGJd6dS"
      }
    },
    {
      "cell_type": "markdown",
      "source": [
        "*** Odds Ratio ***"
      ],
      "metadata": {
        "id": "ehQk2qtocxdA"
      }
    },
    {
      "cell_type": "code",
      "source": [
        "### Odds Ratio\n",
        "import pandas as pd\n",
        "import numpy as np\n",
        "\n",
        "# Sample data\n",
        "exposed_cases = np.array([500, 300])\n",
        "unexposed_cases = np.array([100, 150])\n",
        "exposed_controls = np.array([1000, 800])\n",
        "unexposed_controls = np.array([1200, 1000])\n",
        "\n",
        "# Create a contingency table\n",
        "contingency_table = pd.DataFrame(\n",
        "    {\n",
        "        \"Cases_Exposed\": exposed_cases,\n",
        "        \"Cases_Unexposed\": unexposed_cases,\n",
        "        \"Controls_Exposed\": exposed_controls,\n",
        "        \"Controls_Unexposed\": unexposed_controls,\n",
        "    },\n",
        "    index=[\"Outcome_1\", \"Outcome_2\"],\n",
        ")\n",
        "\n",
        "# Compute odds ratio\n",
        "odds_ratio = (exposed_cases / unexposed_cases) / (exposed_controls / unexposed_controls)\n",
        "\n",
        "# Display the contingency table and odds ratio\n",
        "print(\"Contingency Table:\")\n",
        "print(contingency_table)\n",
        "print(\"\\nOdds Ratio:\")\n",
        "print(odds_ratio)"
      ],
      "metadata": {
        "colab": {
          "base_uri": "https://localhost:8080/"
        },
        "id": "MhWFHi8ecn5G",
        "outputId": "f06dd49b-5561-4e2d-a517-4d470aea59fc"
      },
      "execution_count": 1,
      "outputs": [
        {
          "output_type": "stream",
          "name": "stdout",
          "text": [
            "Contingency Table:\n",
            "           Cases_Exposed  Cases_Unexposed  Controls_Exposed  \\\n",
            "Outcome_1            500              100              1000   \n",
            "Outcome_2            300              150               800   \n",
            "\n",
            "           Controls_Unexposed  \n",
            "Outcome_1                1200  \n",
            "Outcome_2                1000  \n",
            "\n",
            "Odds Ratio:\n",
            "[6.  2.5]\n"
          ]
        }
      ]
    },
    {
      "cell_type": "markdown",
      "source": [
        "*** Relative Risk ***"
      ],
      "metadata": {
        "id": "NWfN0nh-dBek"
      }
    },
    {
      "cell_type": "code",
      "source": [
        "# Relative Risk (RR)\n",
        "import pandas as pd\n",
        "import numpy as np\n",
        "\n",
        "# Sample data\n",
        "exposed_cases = 100\n",
        "unexposed_cases = 50\n",
        "exposed_total = 300\n",
        "unexposed_total = 400\n",
        "\n",
        "# Create a contingency table\n",
        "contingency_table = pd.DataFrame(\n",
        "    {\n",
        "        \"Cases_Exposed\": [exposed_cases, exposed_total - exposed_cases],\n",
        "        \"Cases_Unexposed\": [unexposed_cases, unexposed_total - unexposed_cases],\n",
        "    },\n",
        "    index=[\"Outcome_1\", \"Outcome_2\"],\n",
        ")\n",
        "\n",
        "# Compute relative risk\n",
        "relative_risk = exposed_cases / (exposed_total * unexposed_cases / unexposed_total)\n",
        "\n",
        "# Display the contingency table and relative risk\n",
        "print(\"Contingency Table:\")\n",
        "print(contingency_table)\n",
        "print(\"\\nRelative Risk:\")\n",
        "print(relative_risk)"
      ],
      "metadata": {
        "colab": {
          "base_uri": "https://localhost:8080/"
        },
        "id": "ywr8FGsdcprs",
        "outputId": "c39ba1d7-2cb4-46d1-f046-6a22c23aa839"
      },
      "execution_count": 2,
      "outputs": [
        {
          "output_type": "stream",
          "name": "stdout",
          "text": [
            "Contingency Table:\n",
            "           Cases_Exposed  Cases_Unexposed\n",
            "Outcome_1            100               50\n",
            "Outcome_2            200              350\n",
            "\n",
            "Relative Risk:\n",
            "2.6666666666666665\n"
          ]
        }
      ]
    },
    {
      "cell_type": "markdown",
      "source": [
        "*** Attributable Risk ***"
      ],
      "metadata": {
        "id": "EalJWJctdEC0"
      }
    },
    {
      "cell_type": "code",
      "source": [
        "## Attributable Risk\n",
        "import pandas as pd\n",
        "\n",
        "# Sample data\n",
        "total_population = 1000\n",
        "exposed_cases = 100\n",
        "unexposed_cases = 50\n",
        "\n",
        "# Create a contingency table\n",
        "contingency_table = pd.DataFrame(\n",
        "    {\n",
        "        \"Cases_Exposed\": [exposed_cases, total_population - exposed_cases],\n",
        "        \"Cases_Unexposed\": [unexposed_cases, total_population - unexposed_cases],\n",
        "    },\n",
        "    index=[\"Outcome_1\", \"Outcome_2\"],\n",
        ")\n",
        "\n",
        "# Calculate disease prevalence in exposed and unexposed groups\n",
        "prevalence_exposed = exposed_cases / total_population\n",
        "prevalence_unexposed = unexposed_cases / total_population\n",
        "\n",
        "# Calculate attributable risk\n",
        "attributable_risk = prevalence_exposed - prevalence_unexposed\n",
        "\n",
        "# Display the contingency table and results\n",
        "print(\"Contingency Table:\")\n",
        "print(contingency_table)\n",
        "print(\"\\nPrevalence in exposed group:\", f\"{prevalence_exposed:.2%}\")\n",
        "print(\"Prevalence in unexposed group:\", f\"{prevalence_unexposed:.2%}\")\n",
        "print(\"Attributable Risk:\", f\"{attributable_risk:.2%}\")"
      ],
      "metadata": {
        "colab": {
          "base_uri": "https://localhost:8080/"
        },
        "id": "EVirU90tcpvS",
        "outputId": "77cec5ef-a9ec-419b-e076-800a8ad7248e"
      },
      "execution_count": 3,
      "outputs": [
        {
          "output_type": "stream",
          "name": "stdout",
          "text": [
            "Contingency Table:\n",
            "           Cases_Exposed  Cases_Unexposed\n",
            "Outcome_1            100               50\n",
            "Outcome_2            900              950\n",
            "\n",
            "Prevalence in exposed group: 10.00%\n",
            "Prevalence in unexposed group: 5.00%\n",
            "Attributable Risk: 5.00%\n"
          ]
        }
      ]
    },
    {
      "cell_type": "markdown",
      "source": [
        "*** Population Attributable Risk ***"
      ],
      "metadata": {
        "id": "bVobDjYfdSFZ"
      }
    },
    {
      "cell_type": "code",
      "source": [
        "### Population Attribuatable Risk\n",
        "import pandas as pd\n",
        "\n",
        "# Sample data\n",
        "total_population = 1000\n",
        "exposed_cases = 100\n",
        "unexposed_cases = 50\n",
        "\n",
        "# Create a contingency table\n",
        "contingency_table = pd.DataFrame(\n",
        "    {\n",
        "        \"Cases_Exposed\": [exposed_cases, total_population - exposed_cases],\n",
        "        \"Cases_Unexposed\": [unexposed_cases, total_population - unexposed_cases],\n",
        "    },\n",
        "    index=[\"Outcome_1\", \"Outcome_2\"],\n",
        ")\n",
        "\n",
        "# Calculate disease prevalence in exposed and unexposed groups\n",
        "prevalence_exposed = exposed_cases / total_population\n",
        "prevalence_unexposed = unexposed_cases / total_population\n",
        "\n",
        "# Calculate attributable risk\n",
        "attributable_risk = prevalence_exposed - prevalence_unexposed\n",
        "\n",
        "# Calculate Population Attributable Risk (PAR)\n",
        "par = attributable_risk / prevalence_exposed\n",
        "\n",
        "# Display the contingency table and results\n",
        "print(\"Contingency Table:\")\n",
        "print(contingency_table)\n",
        "print(\"\\nPrevalence in exposed group:\", f\"{prevalence_exposed:.2%}\")\n",
        "print(\"Prevalence in unexposed group:\", f\"{prevalence_unexposed:.2%}\")\n",
        "print(\"Attributable Risk:\", f\"{attributable_risk:.2%}\")\n",
        "print(\"Population Attributable Risk (PAR):\", f\"{par:.2%}\")"
      ],
      "metadata": {
        "colab": {
          "base_uri": "https://localhost:8080/"
        },
        "id": "jR0b6PZwcp67",
        "outputId": "1a9b2391-1806-40d3-da7e-32d20a345c18"
      },
      "execution_count": 4,
      "outputs": [
        {
          "output_type": "stream",
          "name": "stdout",
          "text": [
            "Contingency Table:\n",
            "           Cases_Exposed  Cases_Unexposed\n",
            "Outcome_1            100               50\n",
            "Outcome_2            900              950\n",
            "\n",
            "Prevalence in exposed group: 10.00%\n",
            "Prevalence in unexposed group: 5.00%\n",
            "Attributable Risk: 5.00%\n",
            "Population Attributable Risk (PAR): 50.00%\n"
          ]
        }
      ]
    },
    {
      "cell_type": "markdown",
      "source": [
        "*** Prevalence ***"
      ],
      "metadata": {
        "id": "Ab6TkSjNdfx7"
      }
    },
    {
      "cell_type": "code",
      "source": [
        "### Prevalence\n",
        "import pandas as pd\n",
        "\n",
        "# Sample data\n",
        "total_population = 1000\n",
        "cases = 150\n",
        "\n",
        "# Create a simple prevalence table\n",
        "prevalence_table = pd.DataFrame(\n",
        "    {\"Cases\": [cases, total_population - cases]},\n",
        "    index=[\"Outcome_1\", \"Outcome_2\"],\n",
        ")\n",
        "\n",
        "# Calculate prevalence\n",
        "prevalence = cases / total_population\n",
        "\n",
        "# Display the prevalence table and result\n",
        "print(\"Prevalence Table:\")\n",
        "print(prevalence_table)\n",
        "print(\"\\nPrevalence:\", f\"{prevalence:.2%}\")"
      ],
      "metadata": {
        "colab": {
          "base_uri": "https://localhost:8080/"
        },
        "id": "bgxiWjnhcp-u",
        "outputId": "0a660176-44c9-40a1-81b5-01a48a7ac0a4"
      },
      "execution_count": 5,
      "outputs": [
        {
          "output_type": "stream",
          "name": "stdout",
          "text": [
            "Prevalence Table:\n",
            "           Cases\n",
            "Outcome_1    150\n",
            "Outcome_2    850\n",
            "\n",
            "Prevalence: 15.00%\n"
          ]
        }
      ]
    },
    {
      "cell_type": "markdown",
      "source": [
        "*** Incidence Rate ***"
      ],
      "metadata": {
        "id": "eSMZrIjDdshm"
      }
    },
    {
      "cell_type": "code",
      "source": [
        "# Incidence Rate\n",
        "import pandas as pd\n",
        "\n",
        "# Sample data\n",
        "total_population = 1000\n",
        "new_cases = 50\n",
        "observation_period_years = 2\n",
        "\n",
        "# Create an incidence rate table\n",
        "incidence_rate_table = pd.DataFrame(\n",
        "    {\"New Cases\": [new_cases, total_population - new_cases],\n",
        "     \"Person-Years\": [observation_period_years, observation_period_years]},\n",
        "    index=[\"Outcome_1\", \"Outcome_2\"],\n",
        ")\n",
        "\n",
        "# Calculate incidence rate\n",
        "incidence_rate = (new_cases / total_population) / observation_period_years\n",
        "\n",
        "# Display the incidence rate table and result\n",
        "print(\"Incidence Rate Table:\")\n",
        "print(incidence_rate_table)\n",
        "print(\"\\nIncidence Rate:\", f\"{incidence_rate:.4f} cases per person-year\")"
      ],
      "metadata": {
        "colab": {
          "base_uri": "https://localhost:8080/"
        },
        "id": "SebhvpN-cqB-",
        "outputId": "71b8f229-730e-4035-c7dc-39bfb97f00dd"
      },
      "execution_count": 6,
      "outputs": [
        {
          "output_type": "stream",
          "name": "stdout",
          "text": [
            "Incidence Rate Table:\n",
            "           New Cases  Person-Years\n",
            "Outcome_1         50             2\n",
            "Outcome_2        950             2\n",
            "\n",
            "Incidence Rate: 0.0250 cases per person-year\n"
          ]
        }
      ]
    },
    {
      "cell_type": "markdown",
      "source": [
        "**** The End ***"
      ],
      "metadata": {
        "id": "sqY6hpBeeT2D"
      }
    }
  ]
}